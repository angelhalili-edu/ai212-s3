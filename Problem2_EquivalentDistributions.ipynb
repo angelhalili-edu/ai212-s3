{
 "cells": [
  {
   "cell_type": "markdown",
   "metadata": {},
   "source": [
    "# Random number generation (Mersenne Twister)\n",
    "\n",
    "_Problem Instructions:_\n",
    "\n",
    "## a) Research on MT19937 Algorithm\n",
    "Research the MT19937 (Mersenne Twister) algorithm for generating uniform random numbers. Provide a discussion on its features, period length, and efficiency compared to other random number generators such as linear congruential generators (LCG) and hardware-based generators. Consider discussing real-world applications where MT19937 is commonly used and any potential limitations it may have.\n",
    "\n",
    "## b) Distribution Sampling\n",
    "Using the MT19937 algorithm, write a program that generates N samples from each of the following continuous distributions:\n",
    "- Uniform(a, b)\n",
    "- Exponential(λ)\n",
    "- Normal(μ, σ²)\n",
    "- Any other continuous distribution not discussed in class (e.g. Beta, Cauchy, Pareto, etc)\n",
    "\n",
    "Explain the process of transforming uniform random numbers into these distributions. Provide clear mathematical justifications for the transformations used (e.g., inverse transform sampling, Box-Muller method for normal distribution). Plot the histograms of your generated samples and compare them with theoretical probability density functions (PDFs). Discuss any discrepancies and potential reasons for deviations.\n"
   ]
  }
 ],
 "metadata": {
  "language_info": {
   "name": "python"
  }
 },
 "nbformat": 4,
 "nbformat_minor": 2
}
