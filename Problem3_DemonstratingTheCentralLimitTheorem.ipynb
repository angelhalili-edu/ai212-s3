{
 "cells": [
  {
   "cell_type": "markdown",
   "metadata": {},
   "source": [
    "# Demonstrating the Central Limit Theorem\n",
    "\n",
    "_Problem Instructions:_\n",
    "\n",
    "## a) Distribution of Sample Statistics\n",
    "Select at least three different types of continuous distributions (e.g., uniform, exponential, normal) and draw repeated random samples from each. Compute and plot the distribution of the sample mean and sample median as the sample size increases. Discuss how the shape of these distributions changes and why.\n",
    "\n",
    "## b) Normality of Sample Statistics\n",
    "Show that regardless of the original distribution, the sample mean and sample median tend to be normally distributed as the sample size increases. Use quantile-quantile (Q-Q) plots to visually confirm normality and calculate skewness/kurtosis to provide numerical justification.\n",
    "\n",
    "## c) Robustness of Estimators\n",
    "Compare the behavior of the sample mean as an estimator for different distributions. Specifically, demonstrate that the sample mean is a good estimator for normally distributed random variables but may not be robust for heavy-tailed distributions such as the Cauchy distribution. Discuss why the sample mean fails in heavy-tailed cases and suggest alternative estimators that might be more robust (e.g., trimmed mean, median).\n"
   ]
  }
 ],
 "metadata": {
  "language_info": {
   "name": "python"
  }
 },
 "nbformat": 4,
 "nbformat_minor": 2
}
